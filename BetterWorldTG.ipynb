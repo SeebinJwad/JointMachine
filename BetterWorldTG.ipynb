{
  "nbformat": 4,
  "nbformat_minor": 0,
  "metadata": {
    "colab": {
      "name": "BetterWorldTG",
      "provenance": [],
      "collapsed_sections": []
    },
    "kernelspec": {
      "name": "python3",
      "display_name": "Python 3"
    },
    "language_info": {
      "name": "python"
    }
  },
  "cells": [
    {
      "cell_type": "code",
      "source": [
        "import pyTigerGraph as tg\n",
        "import json\n",
        "import pandas as pd"
      ],
      "metadata": {
        "id": "bud7rGY7YcTG"
      },
      "execution_count": 2,
      "outputs": []
    },
    {
      "cell_type": "code",
      "source": [
        "# Connection parameters\n",
        "hostName = \"https://betterworld.i.tgcloud.io\"\n",
        "userName = \"tigergraph\"\n",
        "password = \"8bOak1zh9B\"\n",
        "\n",
        "conn = tg.TigerGraphConnection(host=hostName, username=userName, password=password)\n"
      ],
      "metadata": {
        "id": "EBEoEo3DY3b5"
      },
      "execution_count": 3,
      "outputs": []
    },
    {
      "cell_type": "code",
      "source": [
        "results = conn.gsql('''\n",
        "USE GLOBAL\n",
        "CREATE VERTEX Country (PRIMARY_ID id STRING, name STRING) WITH primary_id_as_attribute=\"true\"\n",
        "CREATE VERTEX Document (PRIMARY_ID id STRING, name STRING, date STRING) WITH primary_id_as_attribute=\"true\"\n",
        "CREATE VERTEX Action (PRIMARY_ID id STRING, name STRING, date STRING) WITH primary_id_as_attribute=\"true\"\n",
        "\n",
        "CREATE VERTEX sdg (PRIMARY_ID id STRING, number STRING) WITH primary_id_as_attribute=\"true\"\n",
        "CREATE DIRECTED EDGE action_impact_sdg (From Action, To sdg)\n",
        "CREATE DIRECTED EDGE created_document (From Country, To Document)\n",
        "CREATE DIRECTED EDGE documents_action (From Document, To Action)\n",
        "''')\n",
        "print(results)"
      ],
      "metadata": {
        "id": "iGUTJFZqUY88",
        "colab": {
          "base_uri": "https://localhost:8080/"
        },
        "outputId": "241f84f7-a62e-4108-b22c-b22bcc6d0264"
      },
      "execution_count": 9,
      "outputs": [
        {
          "output_type": "stream",
          "name": "stdout",
          "text": [
            "Semantic Check Fails: The vertex name Country is used by another object! Please use a different name.\n",
            "Failed to create vertex types: [Country].\n"
          ]
        }
      ]
    },
    {
      "cell_type": "code",
      "source": [
        "results = conn.gsql('''\n",
        "USE GLOBAL\n",
        "CREATE DIRECTED EDGE created_document (From Country, To Document)\n",
        "CREATE DIRECTED EDGE documents_action (From Document, To Action)\n",
        "''')\n",
        "print(results)"
      ],
      "metadata": {
        "colab": {
          "base_uri": "https://localhost:8080/"
        },
        "id": "eeRzZx2W-eqz",
        "outputId": "e8426432-0c9d-4b73-cfe4-f5a6aefa25bd"
      },
      "execution_count": 10,
      "outputs": [
        {
          "output_type": "stream",
          "name": "stdout",
          "text": [
            "Successfully created edge types: [created_document].\n",
            "Successfully created edge types: [documents_action].\n"
          ]
        }
      ]
    },
    {
      "cell_type": "code",
      "source": [
        "conn.graphname = \"MeGraph\"\n",
        "secret = conn.createSecret()\n",
        "authToken = conn.getToken(secret)\n",
        "authToken = authToken[0]\n",
        "print(authToken)\n",
        "# authToken = 'rc7reopbis1667ksgcppq5v5fb99p6s1'\n",
        "conn = tg.TigerGraphConnection(host=hostName, graphname=\"MeGraph\", username=userName, password=password, apiToken=authToken)\n",
        "\n",
        "def pprint(string):\n",
        "  print(json.dumps(string, indent=2))"
      ],
      "metadata": {
        "colab": {
          "base_uri": "https://localhost:8080/"
        },
        "id": "hV6iTaYG-oNj",
        "outputId": "d16c5117-6303-4a55-9fc3-ef9243f23abe"
      },
      "execution_count": 12,
      "outputs": [
        {
          "output_type": "stream",
          "name": "stdout",
          "text": [
            "muon40u7jb477kv4rv7bs0itcue1icts\n"
          ]
        }
      ]
    },
    {
      "cell_type": "code",
      "source": [
        "# our world in data table of causes of death as extremum of problems"
      ],
      "metadata": {
        "id": "MAmLjKtx-UMr"
      },
      "execution_count": null,
      "outputs": []
    },
    {
      "cell_type": "code",
      "source": [
        "# active verbs from William and Mary Cohen Center\n",
        "active_verbs = \"\"\"\n",
        "Addressed Accentuated Accelerated Adapted Accomplished Apprehended Analyzed Achieved Activated\n",
        "Advertised Acted Administered Advanced Achieved Approved Attained Adapted Adapted\n",
        "Anticipated Adapted Adjusted Advocated Administered Arranged Clarified Advanced Adopted\n",
        "Apprehended Advanced Allocated Aided Adopted Catalogued Collected Advised Applied\n",
        "Arbitrated Began Analyzed Answered Analyzed Categorized Compared Anticipated Assembled\n",
        "Arranged Broadened Appraised Anticipated Anticipated Centralized Concluded Broadened Built\n",
        "Articulated Combined Assessed Arranged Appointed Charted Conducted Clarified Calculated\n",
        "Authored Commissioned Attained Assessed Approved Classified Critiqued Coached Centralized\n",
        "Clarified Composed Audited Assisted Assigned Coded Defined Communicated Combined\n",
        "Collaborated Conceptualized Balanced Attained Assimilated Collected Delivered Conducted Computed\n",
        "Communicated Conceived Budgeted Augmented Attained Combined Detected Coordinated Condensed\n",
        "Composed Condensed Calculated Caused Authorized Compiled Determined Counseled Configured\n",
        "Consulted Created Computed Centralized Broadened Completed Diagnosed Critiqued Conserved\n",
        "Contacted Customized Combined Clarified Caused Condensed Evaluated Cultivated Constructed\n",
        "Conveyed Designed Concluded Coached Chaired Corrected Examined Demystified Converted\n",
        "Convinced Developed Conserved Collaborated Commanded Correlated Experimented Developed Correlated\n",
        "Cooperated Devised Corrected Completed Commissioned Designated Explored Empowered Debugged\n",
        "Counseled Directed Delivered Condensed Condensed Devised Extracted Enabled Defined\n",
        "Corresponded Displayed Determined Continued Consolidated Distributed Discovered Encouraged Designed\n",
        "Decreased Drew Developed Contributed Contracted Documented Documented Evaluated Determined\n",
        "Defined Entertained Estimated Cooperated Controlled Eliminated Focused Explained Developed\n",
        "Developed Established Financed Counseled Coordinated Executed Formulated Facilitated Devised\n",
        "Directed Exhibited Forecasted Demonstrated Cultivated Expanded Found Focused Diagnosed\n",
        "Discussed Fashioned Invested Diagnosed Decided Filed Gathered Fostered Eliminated\n",
        "Documented Featured Liquidated Educated Delegated Focused Identified Fulfilled Engineered\n",
        "Drafted Formulated Managed Encouraged Designated Formalized Inspected Guided Expanded\n",
        "Edited Founded Marketed Ensured Developed Generated Interpreted Individualized Fabricated\n",
        "Elicited Framed Measured Excelled Directed Identified Interviewed Informed Fortified\n",
        "Emphasized Illustrated Netted Expedited Dispatched Implemented Invented Inspired Generated\n",
        "Empowered Improvised Planned Extended Eliminated Incorporated Investigated Instilled Implemented\n",
        "Exhibited Initiated Prepared Facilitated Employed Indexed Located Instructed Indexed\n",
        "Experienced Innovated Programmed Familiarized Empowered Inspected Measured Integrated Installed\n",
        "Explained Instituted Projected Fulfilled Enforced Linked Observed Introduced Integrated\n",
        "Expressed Integrated Pursued Furthered Established Logged Organized Mentored Maintained\n",
        "Featured Introduced Qualified Gained Evaluated Maintained Predicted Motivated Mapped\n",
        "Formulated Invented Reconciled Guided Exercised Modernized Projected Nurtured Mastered\n",
        "Framed Modeled Reduced Helped Executed Monitored Proved Persuaded Modernized\n",
        "Indicated Modified Researched Identified Experienced Obtained Recorded Progressed Operated\n",
        "Influenced Originated Retrieved Insured Extended Operated Researched Simulated Overhauled\n",
        "Informed Performed Sold Intervened Fostered Ordered Revealed Spoke Pioneered\n",
        "Interacted Photographed Targeted Minimized Generated Organized Reviewed Stimulated Practiced\n",
        "Interpreted Pioneered Traded Modernized Governed Pinpointed Searched Taught Printed\n",
        "Involved Planned Ventured Motivated Handled Prepared Solved Tested Processed\n",
        "Lectured Practiced Participated Headed Processed Studied Trained Programmed\n",
        "Mapped Published Prevented Improved Projected Summarized Transmitted Published\n",
        "Marketed Redesigned Provided Incorporated Provided Surveyed Tutored Rectified\n",
        "Mediated Revised Raised Increased Purchased Systematized Wrote Redesigned\n",
        "Moderated Revitalized Recognized Initiated Recorded Tested Regulated\n",
        "Negotiated Shaped Reduced Inspected Redesigned Uncovered Remodeled\n",
        "Observed Showed Referred Instituted Reduced Understood Repaired\n",
        "Outlined Solved Refined Launched Refined Wrote Replaced\n",
        "Overcame Started Rehabilitated Led Registered Restored\n",
        "Persuaded Transformed Reinforced Managed Reorganized Retrieved\n",
        "Presented Represented Mentored Reserved Solved\n",
        "Promoted Resolved Mobilized Reshaped Specialized\n",
        "Proposed Served Motivated Responded Standardized\n",
        "Publicized Simplified Organized Restructured Studied\n",
        "Published Supplemented Overhauled Retrieved Succeeded\n",
        "Pursued Supplied Oversaw Revamped Synthesized\n",
        "Realized Supported Planned Reviewed Upgraded\n",
        "Reconciled Sustained Presided Revised Utilized\n",
        "Recorded Volunteered Prioritized Routed Wrote\n",
        "Recruited Produced Scheduled\n",
        "Referred Recognized Screened\n",
        "Renegotiated Recommended Specified\n",
        "Reported Rectified Submitted\n",
        "Resolved Reorganized Supplied\n",
        "Responded Replaced Standardized\n",
        "Revised Restored Structured\n",
        "Shared Revamped Simplified\n",
        "Showed Reviewed Synchronized\n",
        "Solicited Revived Systematized\n",
        "Spoke Scheduled Tabulated\n",
        "Suggested Secured Tailored\n",
        "Summarized Selected Updated\n",
        "Synthesized Started Validated\n",
        "Tailored Streamlined Verified\n",
        "Targeted Strengthened\n",
        "Translated Supervised\n",
        "Understood Worked\n",
        "Unified\n",
        "Widened\n",
        "Wrote\n",
        "\"\"\""
      ],
      "metadata": {
        "id": "K0Sg-ghMBubg"
      },
      "execution_count": 13,
      "outputs": []
    },
    {
      "cell_type": "code",
      "source": [
        "active_verbs = active_verbs.split()"
      ],
      "metadata": {
        "id": "V_vmpKvXB740"
      },
      "execution_count": 15,
      "outputs": []
    },
    {
      "cell_type": "code",
      "source": [
        ""
      ],
      "metadata": {
        "id": "M2dSS3DICCpB"
      },
      "execution_count": null,
      "outputs": []
    },
    {
      "cell_type": "markdown",
      "source": [
        "compilation of problems represented as a graph\n",
        "\n",
        "6 data scraping and compiling pipelines:\n",
        "1. hrw world report link scraping among 3 other sites:\n",
        "use robots.txt website to determine if big or small website - keep small website link for more researching in future (innovative back research done if information is missing)\n",
        "\n",
        "2. monthly numerical data from un websites and world bank (~20+ stats), and list of events and month dates for each country (categorical variable), timeline analysis with machine learning could predict if an event such as womens rights march led to less female murders. Our interest is in cross relationship events so if two categories (categorical and numerical label) differ than extract that. could be graph algorithm represented as directed graph.\n",
        "\n",
        "3. create a general sentiment and textual anaylsis program pipeline that can be used for all these different sources.\n",
        "\n",
        "4. news websites like al jazeera scrape for timeline based analysis in (2)\n",
        "\n",
        "5. wikipedia connection scraper that finds links using wikipedia links to play the game\n",
        "\n",
        "TOTAL SOURCES for data: 30 or so - main ones being hrw, wikipedia, news sites, world bank\n",
        "\n",
        "venn diagram of sentiment analysis crossed with logically best solutions for each country\n",
        "(sentiment anaylsis of that topic quantified and clustered with logically best solutions respective of topic, if both points are in the cross cluster that topic is good)\n",
        "\n",
        "\n",
        "knowledge graph and analysis graph algorithm\n",
        "maximize resources to reach the sdgs by the end of the decade\n",
        "\n",
        "relative to country\n",
        "is it pragmatic resource wise? possible? (hrw world data)\n",
        "what are the country and global problems that obstruct from reaching sdg? (news outlet problems)\n",
        "is there sufficient interest in reaching these goals? (UN sentiment)\n",
        "what are some unique innovative methodologies that can directly and substantially target the most sdgs? (wikipedia statistic graph)\n",
        "\n",
        "Submissinon\n",
        "text description/summary\n",
        "Github repo\n",
        "3 minute video\n",
        "\n",
        "\n",
        "            "
      ],
      "metadata": {
        "id": "wZ7d-UfdWkIs"
      }
    },
    {
      "cell_type": "markdown",
      "source": [
        "look at the past\n",
        "\n",
        "translate it to present\n",
        "\n",
        "aim at the future\n",
        "\n",
        "historical events categorized as problems or not (famine and disease vs discovery of america) - scrape history lit base\n",
        "\n",
        "create problem nodes - problem type (SDG probs or not) and population it affected\n",
        "\n",
        "create solution nodes for every problem node - historical solution, if none remove problem\n",
        "\n",
        "match history problem graph with modern problems graph\n",
        "\n",
        "translate matched history graph to modern solutions (wearing masks relate to COVID mask papers)\n",
        "\n",
        "identify breadth most solutions and depth most solutions relative to SDGs\n",
        "\n",
        "result: given a modern problem projected to be solved by 2030, compile list of best solutions\n",
        "\n",
        "OPTIONAL: take UN documents and conferences and reports to create country sentiments about these solutions, cross solution impact with chance the country would follow through with it - the joint machine\n",
        "\n",
        "look at past - determine which statistics in each sdg more than one in one category, plot changes over time from world bank data crossed with events and political actions that have happened (graphed correlation?), translate to present - find similar conditions in current countries using similarity graph, aim for future find similar papers to events context add solutions together and see if it will happen or not\n"
      ],
      "metadata": {
        "id": "s1GnbWtR6f7p"
      }
    }
  ]
}